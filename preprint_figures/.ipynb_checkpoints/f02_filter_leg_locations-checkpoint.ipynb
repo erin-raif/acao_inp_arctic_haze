{
 "cells": [
  {
   "cell_type": "markdown",
   "id": "f727c07f-1edf-482b-b76c-a115bcfb09d2",
   "metadata": {},
   "source": [
    "# Figure 2\n",
    "This makes a plot with two side-by-side axes displaying the location of filter sample legs. The left plot displays the locations of the filter runs and their types. The right-hand plot shows the relative concentrations of INP across the filter legs. "
   ]
  },
  {
   "cell_type": "code",
   "execution_count": 1,
   "id": "51cc7678-9949-48b4-a0f8-1ebc79b8e4c0",
   "metadata": {
    "editable": true,
    "slideshow": {
     "slide_type": ""
    },
    "tags": []
   },
   "outputs": [],
   "source": [
    "import cartopy.crs as ccrs\n",
    "import cartopy.feature as cfeature\n",
    "from cartopy.mpl.gridliner import LONGITUDE_FORMATTER, LATITUDE_FORMATTER\n",
    "from cartopy.io.shapereader import Reader\n",
    "from cartopy.feature import ShapelyFeature\n",
    "import pandas as pd\n",
    "import matplotlib.pyplot as plt\n",
    "import matplotlib as mpl\n",
    "import matplotlib.ticker as mticker\n",
    "import matplotlib.colors as mcolors\n",
    "import numpy as np\n",
    "import xarray as xr\n",
    "import os\n",
    "from glob import glob"
   ]
  },
  {
   "cell_type": "code",
   "execution_count": 2,
   "id": "1042bde5-83ab-4a96-a648-789fb9e25679",
   "metadata": {},
   "outputs": [],
   "source": [
    "def convert_time_to_spm(time_str):\n",
    "    h, m, s = time_str.split(':')\n",
    "    return int(h) * 3600 + int(m) * 60 + int(s)"
   ]
  },
  {
   "cell_type": "code",
   "execution_count": 3,
   "id": "5556e60a-fca4-4269-95e0-788186f6640d",
   "metadata": {},
   "outputs": [],
   "source": [
    "# Read in relevant metadata and INP concentrations.\n",
    "filter_info = pd.read_csv('/home/users/erinraif/acao_data/metadata/timings_of_filter_legs_acao.csv', index_col='unique_ID')\n",
    "# Drop filter runs negated (c276r3 due to issues during experiment, c278r3 due to short run length)\n",
    "filter_info = filter_info.drop(['c276r3t','c278r3t'])\n",
    "INP_concentrations = pd.read_csv('/home/users/erinraif/acao_data/inp_data/subtracted_backgrounds_v4_2ul.csv', index_col='temp_bin')"
   ]
  },
  {
   "cell_type": "code",
   "execution_count": 4,
   "id": "9f4e44ac-cecf-480f-8b5d-3cfde0f73340",
   "metadata": {},
   "outputs": [],
   "source": [
    "filter_info['start_time_spm'] = filter_info['start_time'].apply(convert_time_to_spm)\n",
    "filter_info['end_time_spm'] = filter_info['end_time'].apply(convert_time_to_spm)"
   ]
  },
  {
   "cell_type": "code",
   "execution_count": 5,
   "id": "d1f47492-e5a7-4f50-a2bc-bcd698f68050",
   "metadata": {},
   "outputs": [],
   "source": [
    "# Read relative locations of annotations on plot (manually determined, unfortunately)\n",
    "label_locs = pd.read_csv('filter_annotations.csv',index_col='unique_ID')"
   ]
  },
  {
   "cell_type": "code",
   "execution_count": 6,
   "id": "4b3946b1-9bf7-424c-a4d0-6243a8ffe556",
   "metadata": {
    "scrolled": true
   },
   "outputs": [],
   "source": [
    "filter_info = pd.merge(filter_info, label_locs, left_index=True, right_index=True)"
   ]
  },
  {
   "cell_type": "code",
   "execution_count": 7,
   "id": "f81fe8d8-a681-409b-b4f3-944bc5c72737",
   "metadata": {},
   "outputs": [],
   "source": [
    "def get_filter_extents(row):\n",
    "    # For each row of filter metadata, collect latitude and longitude data\n",
    "    flight_data = xr.open_dataset(\n",
    "                    glob('/badc/faam/data/2022/'+\n",
    "                         row.flight+'*/core_processed/core_faam*'\n",
    "                         +row.flight+'.nc')[-1],\n",
    "                    decode_times=False,engine='netcdf4')\n",
    "\n",
    "    time_slice = flight_data.sel(Time=slice(row.start_time_spm, row.end_time_spm))\n",
    "    lat = time_slice['LAT_GIN'][:,0]\n",
    "    lon = time_slice['LON_GIN'][:,0]\n",
    "    row['mean_lat'] = lat.mean().values\n",
    "    row['mean_lon'] = lon.mean().values\n",
    "    row['east'] = lon.max().values\n",
    "    row['west'] = lon.min().values\n",
    "    row['north'] = lat.max().values\n",
    "    row['south'] = lat.min().values\n",
    "    return row\n"
   ]
  },
  {
   "cell_type": "code",
   "execution_count": 8,
   "id": "cd98d5af-bfe0-4336-90d8-12af74dbbd43",
   "metadata": {},
   "outputs": [],
   "source": [
    "filter_info = filter_info.apply(lambda row: get_filter_extents(row), axis=1)"
   ]
  },
  {
   "cell_type": "code",
   "execution_count": 9,
   "id": "d214c5d7-6bb1-487a-840f-5bc7276e796b",
   "metadata": {},
   "outputs": [],
   "source": [
    "# Create map projection objects\n",
    "NPS = ccrs.NorthPolarStereo(central_longitude=15)\n",
    "PC = ccrs.PlateCarree()"
   ]
  },
  {
   "cell_type": "code",
   "execution_count": 23,
   "id": "d166a8ba-56fe-4715-9cc2-4d1de2ab6b84",
   "metadata": {},
   "outputs": [],
   "source": [
    "def make_map(ax, PC, NPS, add=True):\n",
    "    # Create background of maps on subplot\n",
    "    ax.set_extent([0,30,66,82],crs=PC)\n",
    "    # Set gridlines and axes\n",
    "    gl = ax.gridlines(crs=PC, zorder=6, draw_labels=True, x_inline = False,\n",
    "                      y_inline = False, linewidth=0.5, linestyle=(0, (5, 1)))\n",
    "    gl.n_steps = 60\n",
    "    gl.ylocator = mticker.FixedLocator(np.arange(60, 90, 2))\n",
    "    gl.yformatter = LATITUDE_FORMATTER\n",
    "    gl.xlocator = mticker.FixedLocator(np.arange(-20, 61, 5))\n",
    "    gl.xformatter = LONGITUDE_FORMATTER\n",
    "    \n",
    "    gl.ylabel_style = {'fontsize': 14, 'zorder': 30, 'rotation':0, 'color': 'k'}\n",
    "    gl.xlabel_style = {'fontsize': 14, 'zorder': 30, 'rotation':0, 'color': 'k'}\n",
    "    gl.top_labels = False\n",
    "    gl.right_labels = False\n",
    "    \n",
    "    # Paths to the sea-ice shapefiles for the maximum and minimum sea-ice extent\n",
    "    max_ice_path = '/home/users/erinraif/acao_data/sea_ice_shapefiles/20220311_c271/masie_ice_r00_v01_2022070_1km.shp'\n",
    "    min_ice_path = '/home/users/erinraif/acao_data/sea_ice_shapefiles/20220330_c281_c282/masie_ice_r00_v01_2022089_1km.shp'\n",
    "\n",
    "    if add:\n",
    "    # Define coastlines, oceans and land shapes\n",
    "        coasts_50m = cfeature.NaturalEarthFeature('physical', 'coastline', '50m', \n",
    "                                                  edgecolor='black',\n",
    "                                                  facecolor= 'none')\n",
    "        \n",
    "        ocean_50m = cfeature.NaturalEarthFeature('physical', 'ocean', '50m',\n",
    "                                                edgecolor='face',\n",
    "                                                facecolor='lightblue')\n",
    "        \n",
    "        land_50m = cfeature.NaturalEarthFeature('physical', 'land', '50m',\n",
    "                                                edgecolor='face',\n",
    "                                                facecolor='lightgray')\n",
    "        \n",
    "        # Create sea-ice features\n",
    "        max_ice = cfeature.ShapelyFeature(Reader(max_ice_path).geometries(),\n",
    "                                                 ccrs.NorthPolarStereo(central_longitude = -80, \n",
    "                                                 true_scale_latitude = 60), facecolor = 'azure',\n",
    "                                                 edgecolors = 'red', linestyle='--')\n",
    "        \n",
    "        min_ice = cfeature.ShapelyFeature(Reader(min_ice_path).geometries(),\n",
    "                                                 ccrs.NorthPolarStereo(central_longitude = -80, \n",
    "                                                 true_scale_latitude = 60), facecolor = 'azure',\n",
    "                                                 edgecolors = 'red')\n",
    "    \n",
    "    # add all to the map\n",
    "        ax.add_feature(ocean_50m, zorder = 1, alpha = 0.4)\n",
    "        ax.add_feature(max_ice, zorder = 3, linewidth = 0.5)\n",
    "        ax.add_feature(min_ice, zorder = 2, linewidth = 0.5)\n",
    "        ax.add_feature(land_50m, zorder = 4, alpha = 0.4)\n",
    "        ax.add_feature(coasts_50m, zorder = 5, linewidth = 0.5)\n",
    "    return fig, ax"
   ]
  },
  {
   "cell_type": "code",
   "execution_count": 22,
   "id": "9651bfd2-0b40-434d-9a60-1183cacd3c1b",
   "metadata": {},
   "outputs": [],
   "source": [
    "def plot_filter_legs(ax1, ax2, row, conc_df, cm, norm):\n",
    "    # For each row of metadata, plot associated filter track\n",
    "    flight_data = xr.open_dataset(\n",
    "                    glob('/badc/faam/data/2022/'+\n",
    "                         row.flight+'*/core_processed/core_faam*'\n",
    "                         +row.flight+'.nc')[-1],\n",
    "                    decode_times=False,engine='netcdf4')\n",
    "    time_slice = flight_data.sel(Time=slice(row.start_time_spm, row.end_time_spm))\n",
    "    lat = time_slice['LAT_GIN'][:,0]\n",
    "    lon = time_slice['LON_GIN'][:,0]\n",
    "    # Choose colour for ax1 plot based on run type\n",
    "    if row.layer == 'above':\n",
    "        c = 'darkmagenta'\n",
    "    elif row.layer == 'below':\n",
    "        c = 'darkorange'\n",
    "    elif row.layer == 'upstream':\n",
    "        c = 'darkgreen'\n",
    "    else:\n",
    "        c = 'black'\n",
    "    ax1.plot(lon, lat, color=c, transform = ccrs.PlateCarree(),zorder=6)\n",
    "    # Get the INP concentration at T = -15\n",
    "    N_at_15 = conc_df.loc[-15,row.name+'_NT']\n",
    "    # Choose colour for plot based on this value and plot on ax2\n",
    "    c = cm(norm(N_at_15))\n",
    "    ax2.plot(lon, lat, color=c, transform = ccrs.PlateCarree(),zorder=6)\n",
    "    \n",
    "    return row"
   ]
  },
  {
   "cell_type": "code",
   "execution_count": 12,
   "id": "adb56aab-8251-4ca7-952e-113e6a3a5ab7",
   "metadata": {},
   "outputs": [],
   "source": [
    "def add_annotation(row, ax, color=True):\n",
    "    # Choose colour for text if wanted (for ax1 case)\n",
    "    if color:\n",
    "        if row.layer == 'above':\n",
    "            c = 'darkmagenta'\n",
    "        elif row.layer == 'below':\n",
    "            c = 'orangered'\n",
    "        elif row.layer == 'upstream':\n",
    "            c = 'darkgreen'\n",
    "        else:\n",
    "            c = 'black'\n",
    "    else:\n",
    "        c = 'black'\n",
    "    \n",
    "    extent = ax.get_extent()\n",
    "\n",
    "    # Calculate co-ordinates of label top-left corner in NPS\n",
    "    label_NPS_x = extent[0] + (extent[1] - extent[0]) * row.x_extent\n",
    "    label_NPS_y = extent[3] + (extent[2]-extent[3]) * row.y_extent\n",
    "    label_lon, label_lat = PC.transform_point(label_NPS_x, label_NPS_y, NPS)\n",
    "    t = ax.text(label_lon, label_lat, row.name[:-1],\n",
    "                 transform=ccrs.PlateCarree(),\n",
    "                 horizontalalignment='left',\n",
    "                 verticalalignment='top',\n",
    "                 color = c,\n",
    "                 fontsize = 12,\n",
    "                 zorder=7\n",
    "                )\n",
    "    # Get the bounding box of the text object in display coordinates\n",
    "    bbox = t.get_window_extent()\n",
    "    # Get start\n",
    "    if row.y_extent < 0.89:\n",
    "        # Find the left and right-most extent (x-coordinate) of the bounding box in pt\n",
    "        left_extent_pt = bbox.x0\n",
    "        right_extent_pt = bbox.x1\n",
    "        # Get bounding box height midpoint in pt\n",
    "        box_height_mp_pt = (bbox.y0+bbox.y1)/2\n",
    "        # Convert to NPS x,y\n",
    "        left_extent_NPS = ax.transData.inverted().transform((left_extent_pt, 0))[0]\n",
    "        right_extent_NPS = ax.transData.inverted().transform((right_extent_pt, 0))[0]\n",
    "        box_height_mp_NPS = ax.transData.inverted().transform((0, box_height_mp_pt))[1]\n",
    "        if row.x_extent < 0.5: # LHS\n",
    "             arrow_start_NPS = (right_extent_NPS, box_height_mp_NPS)\n",
    "        else: # RHS\n",
    "            arrow_start_NPS = (left_extent_NPS, box_height_mp_NPS)\n",
    "    else:  # bottom row\n",
    "        # Find the top of the bounding box\n",
    "        top_extent_pt = bbox.y1\n",
    "        # Get bounding box width midpoint in pt\n",
    "        box_width_mp_pt = (bbox.x0+bbox.x1)/2\n",
    "        # Convert to NPS x,y\n",
    "        top_extent_NPS = ax.transData.inverted().transform((0, top_extent_pt))[1]\n",
    "        box_width_mp_NPS = ax.transData.inverted().transform((box_width_mp_pt,0))[0]\n",
    "        arrow_start_NPS = (box_width_mp_NPS, top_extent_NPS)\n",
    "\n",
    "    # Check where endpoint of arrow should be and retrieve from metadata\n",
    "    if row.end[0] == 'N':\n",
    "        arrow_end_lat = row.north\n",
    "    elif row.end[0] == 'S':\n",
    "        arrow_end_lat = row.south\n",
    "    elif row.end[0] == 'M':\n",
    "        arrow_end_lat = row.mean_lat\n",
    "    if row.end[1] == 'E':\n",
    "        arrow_end_lon = row.east\n",
    "    elif row.end[1] == 'W':\n",
    "        arrow_end_lon = row.west\n",
    "    elif row.end[1] == 'M':\n",
    "        arrow_end_lon = row.mean_lon\n",
    "\n",
    "    # Plot arrow\n",
    "    arrow_end_NPS = NPS.transform_point(arrow_end_lon, arrow_end_lat, PC)\n",
    "    arrow = ax.annotate(\"\", xy=arrow_end_NPS, xytext=arrow_start_NPS,\n",
    "                        arrowprops=dict(arrowstyle='->', linewidth=1,color='gray'), transform=NPS,\n",
    "                       zorder=1000)\n",
    "    \n",
    "    return"
   ]
  },
  {
   "cell_type": "code",
   "execution_count": 13,
   "id": "4f0e6107-5ac8-4534-a278-36a2e745ad4f",
   "metadata": {},
   "outputs": [],
   "source": [
    "def interpolate_colors(colormap, levels, value):\n",
    "    # Normalize a value to [0, 1] based on the levels\n",
    "    normalized_value = (value - levels[0]) / (levels[-1] - levels[0])\n",
    "    # Map the normalized value to the colormap\n",
    "    return colormap(normalized_value)\n"
   ]
  },
  {
   "cell_type": "code",
   "execution_count": null,
   "id": "1952cfd1-ca3f-4598-a3b2-461b7d6f3d4b",
   "metadata": {},
   "outputs": [
    {
     "name": "stderr",
     "output_type": "stream",
     "text": [
      "/tmp/ipykernel_2850/2206034440.py:36: UserWarning: This figure includes Axes that are not compatible with tight_layout, so results might be incorrect.\n",
      "  fig.tight_layout()\n"
     ]
    }
   ],
   "source": [
    "norm = mcolors.LogNorm(0.05,3)\n",
    "cm = plt.cm.PuRd\n",
    "# Make plot\n",
    "fig, (ax1, ax2) = plt.subplots(nrows=1,ncols=2,figsize=(17,10.5),\n",
    "                       subplot_kw=dict(projection=NPS),dpi=300)\n",
    "for ax in (ax1, ax2):\n",
    "    make_map(ax, PC, NPS, add=True)\n",
    "# Plot filter tracks and annotate them\n",
    "filter_info = filter_info.apply(lambda row: plot_filter_legs(ax1, ax2, row,\n",
    "                                                             INP_concentrations,\n",
    "                                                             cm, norm), axis=1)\n",
    "plt.draw()\n",
    "_ = filter_info.apply(lambda row: add_annotation(row,ax1,True),axis=1)\n",
    "_ = filter_info.apply(lambda row: add_annotation(row,ax2,False),axis=1)\n",
    "# \"Hidden\" plots to create legend\n",
    "ax1.plot([0,1],[0,1],transform = ccrs.PlateCarree(),color='darkmagenta',\n",
    "        label='Above cloud')\n",
    "ax1.plot([0,1],[0,1],transform = ccrs.PlateCarree(),color='darkorange',\n",
    "        label='Below cloud')\n",
    "ax1.plot([0,1],[0,1],transform = ccrs.PlateCarree(),color='green',\n",
    "        label='Upstream')\n",
    "ax1.legend(loc='lower left',ncol=3,fontsize=16)\n",
    "\n",
    "ax1.text(-18,79.5,\"a.\",size=32,transform=PC,zorder=20)\n",
    "ax2.text(-18,79.5,\"b.\",size=32,transform=PC,zorder=20)\n",
    "fig.tight_layout()\n",
    "cb_ax = fig.add_axes([1.02, 0.05, 0.02, 0.9])\n",
    "sm = plt.cm.ScalarMappable(cmap=cm, norm=norm)\n",
    "# Now, create a vertical colorbar on the additional axis\n",
    "cb = fig.colorbar(sm, cax=cb_ax, orientation=\"vertical\", extend='min',\n",
    "                 ticks=[0.05, 0.1, 0.2, 0.5, 1, 2, 3],\n",
    "                 format=mpl.ticker.ScalarFormatter())\n",
    "cb.set_label(r'$N_{\\mathrm{INP}}\\left(T=-15\\,^{\\circ}\\mathrm{C}\\right)$', fontsize=16)\n",
    "cb.ax.tick_params(labelsize=12) \n",
    "# Note warning appears here due to the presence of cb_ax - safely ignored\n",
    "fig.tight_layout()\n",
    "fig.savefig('./imgs/f02.png',bbox_inches='tight')"
   ]
  },
  {
   "cell_type": "code",
   "execution_count": null,
   "id": "71ed15f8-0017-44c6-90ea-6d8b8d6f67e4",
   "metadata": {},
   "outputs": [],
   "source": []
  }
 ],
 "metadata": {
  "kernelspec": {
   "display_name": "acao_fig_basic",
   "language": "python",
   "name": "acao_fig_basic"
  },
  "language_info": {
   "codemirror_mode": {
    "name": "ipython",
    "version": 3
   },
   "file_extension": ".py",
   "mimetype": "text/x-python",
   "name": "python",
   "nbconvert_exporter": "python",
   "pygments_lexer": "ipython3",
   "version": "3.10.8"
  }
 },
 "nbformat": 4,
 "nbformat_minor": 5
}
